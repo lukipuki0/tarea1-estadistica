{
  "nbformat": 4,
  "nbformat_minor": 0,
  "metadata": {
    "colab": {
      "provenance": [],
      "include_colab_link": true
    },
    "kernelspec": {
      "name": "ir",
      "display_name": "R"
    },
    "language_info": {
      "name": "R"
    }
  },
  "cells": [
    {
      "cell_type": "markdown",
      "metadata": {
        "id": "view-in-github",
        "colab_type": "text"
      },
      "source": [
        "<a href=\"https://colab.research.google.com/github/lukipuki0/tarea1-estadistica/blob/main/tarea_ICI3170_1.ipynb\" target=\"_parent\"><img src=\"https://colab.research.google.com/assets/colab-badge.svg\" alt=\"Open In Colab\"/></a>"
      ]
    },
    {
      "cell_type": "markdown",
      "source": [
        "Incorporar el desarrollo del Item junto con los comentarios solicitados en celdas independientes. Siga el ejemplo:\n",
        "*Codigo; Salida de codigo; comentarios*"
      ],
      "metadata": {
        "id": "KCOMJ0s1kVnG"
      }
    },
    {
      "cell_type": "markdown",
      "source": [
        "\n",
        "# Tarea X\n",
        "\n",
        "## Integrantes\n",
        "\n",
        "- nombre apellidos\n",
        "- nombre apellidos\n",
        "- nombre apellidos\n",
        "\n"
      ],
      "metadata": {
        "id": "StMM0D1OxUQ8"
      }
    },
    {
      "cell_type": "code",
      "source": [
        "system(\"wget https://raw.githubusercontent.com/lukipuki0/tarea1-estadistica/main/BASE_FINAL_SEGPRES_ERTM_DA.xlsx\")"
      ],
      "metadata": {
        "id": "WZA_owICWu8X"
      },
      "execution_count": 2,
      "outputs": []
    },
    {
      "cell_type": "code",
      "source": [
        "#cargar datos.\n",
        "#install.packages(\"readxl\")\n",
        "\n",
        "library(readxl)\n",
        "\n",
        "# Cargar el archivo Excel\n",
        "df <- read_excel(\"BASE_FINAL_SEGPRES_ERTM_DA.xlsx\")\n",
        "\n",
        "# Filtrar las columnas necesarias\n",
        "df <- df[, c(\"TIP_SUBDERE\", \"TOTAL_FUNCIONARIOS_SUMA\", \"P6.1\", \"P6.2\", \"P6.3\")]\n",
        "#data"
      ],
      "metadata": {
        "id": "hFeDfOVLZtZN"
      },
      "execution_count": 3,
      "outputs": []
    },
    {
      "cell_type": "markdown",
      "source": [
        "##PREGUNTA 1\n"
      ],
      "metadata": {
        "id": "iII5-x9WbXfr"
      }
    },
    {
      "cell_type": "code",
      "source": [
        "library(readxl)\n",
        "\n",
        "# Cargar el archivo Excel\n",
        "df <- read_excel(\"BASE_FINAL_SEGPRES_ERTM_DA.xlsx\")\n",
        "\n",
        "# Filtrar las columnas necesarias\n",
        "df <- df[, c(\"MUNICIPALIDAD\",\"TIP_SUBDERE\", \"TOTAL_FUNCIONARIOS_SUMA\", \"P6.1\", \"P6.2\", \"P6.3\")]"
      ],
      "metadata": {
        "id": "bfKJHtC3VZ9I"
      },
      "execution_count": 7,
      "outputs": []
    },
    {
      "cell_type": "markdown",
      "source": [
        "## Desarrollo Item 1.a.\n",
        "\n"
      ],
      "metadata": {
        "id": "Q0h5E1jxxzW9"
      }
    },
    {
      "cell_type": "code",
      "execution_count": 9,
      "metadata": {
        "id": "nW0h5L8mw_yg",
        "colab": {
          "base_uri": "https://localhost:8080/",
          "height": 286
        },
        "outputId": "878c99d3-32eb-4c74-e007-326aab9ae80b"
      },
      "outputs": [
        {
          "output_type": "display_data",
          "data": {
            "text/html": [
              "<table class=\"dataframe\">\n",
              "<caption>A tibble: 6 × 6</caption>\n",
              "<thead>\n",
              "\t<tr><th scope=col>MUNICIPALIDAD</th><th scope=col>TIP_SUBDERE</th><th scope=col>TOTAL_FUNCIONARIOS_SUMA</th><th scope=col>P6.1</th><th scope=col>P6.2</th><th scope=col>P6.3</th></tr>\n",
              "\t<tr><th scope=col>&lt;chr&gt;</th><th scope=col>&lt;dbl&gt;</th><th scope=col>&lt;dbl&gt;</th><th scope=col>&lt;dbl&gt;</th><th scope=col>&lt;dbl&gt;</th><th scope=col>&lt;dbl&gt;</th></tr>\n",
              "</thead>\n",
              "<tbody>\n",
              "\t<tr><td>ALGARROBO      </td><td>5</td><td>209</td><td>33</td><td>41</td><td>  8</td></tr>\n",
              "\t<tr><td>ALHUE          </td><td>5</td><td> 95</td><td>15</td><td> 3</td><td> 38</td></tr>\n",
              "\t<tr><td>ALTO BIOBIO    </td><td>6</td><td> NA</td><td>NA</td><td>NA</td><td> NA</td></tr>\n",
              "\t<tr><td>ALTO DEL CARMEN</td><td>6</td><td> NA</td><td>NA</td><td>NA</td><td> NA</td></tr>\n",
              "\t<tr><td>ALTO HOSPICIO  </td><td>3</td><td>500</td><td>52</td><td>22</td><td>213</td></tr>\n",
              "\t<tr><td>ANCUD          </td><td>4</td><td>219</td><td>60</td><td> 6</td><td>120</td></tr>\n",
              "</tbody>\n",
              "</table>\n"
            ],
            "text/markdown": "\nA tibble: 6 × 6\n\n| MUNICIPALIDAD &lt;chr&gt; | TIP_SUBDERE &lt;dbl&gt; | TOTAL_FUNCIONARIOS_SUMA &lt;dbl&gt; | P6.1 &lt;dbl&gt; | P6.2 &lt;dbl&gt; | P6.3 &lt;dbl&gt; |\n|---|---|---|---|---|---|\n| ALGARROBO       | 5 | 209 | 33 | 41 |   8 |\n| ALHUE           | 5 |  95 | 15 |  3 |  38 |\n| ALTO BIOBIO     | 6 |  NA | NA | NA |  NA |\n| ALTO DEL CARMEN | 6 |  NA | NA | NA |  NA |\n| ALTO HOSPICIO   | 3 | 500 | 52 | 22 | 213 |\n| ANCUD           | 4 | 219 | 60 |  6 | 120 |\n\n",
            "text/latex": "A tibble: 6 × 6\n\\begin{tabular}{llllll}\n MUNICIPALIDAD & TIP\\_SUBDERE & TOTAL\\_FUNCIONARIOS\\_SUMA & P6.1 & P6.2 & P6.3\\\\\n <chr> & <dbl> & <dbl> & <dbl> & <dbl> & <dbl>\\\\\n\\hline\n\t ALGARROBO       & 5 & 209 & 33 & 41 &   8\\\\\n\t ALHUE           & 5 &  95 & 15 &  3 &  38\\\\\n\t ALTO BIOBIO     & 6 &  NA & NA & NA &  NA\\\\\n\t ALTO DEL CARMEN & 6 &  NA & NA & NA &  NA\\\\\n\t ALTO HOSPICIO   & 3 & 500 & 52 & 22 & 213\\\\\n\t ANCUD           & 4 & 219 & 60 &  6 & 120\\\\\n\\end{tabular}\n",
            "text/plain": [
              "  MUNICIPALIDAD   TIP_SUBDERE TOTAL_FUNCIONARIOS_SUMA P6.1 P6.2 P6.3\n",
              "1 ALGARROBO       5           209                     33   41     8 \n",
              "2 ALHUE           5            95                     15    3    38 \n",
              "3 ALTO BIOBIO     6            NA                     NA   NA    NA \n",
              "4 ALTO DEL CARMEN 6            NA                     NA   NA    NA \n",
              "5 ALTO HOSPICIO   3           500                     52   22   213 \n",
              "6 ANCUD           4           219                     60    6   120 "
            ]
          },
          "metadata": {}
        }
      ],
      "source": [
        "head(df)"
      ]
    },
    {
      "cell_type": "code",
      "source": [
        "# Eliminar filas con cualquier valor NA\n",
        "df <- na.omit(df)"
      ],
      "metadata": {
        "id": "TwW250dkXCW_"
      },
      "execution_count": 13,
      "outputs": []
    },
    {
      "cell_type": "code",
      "source": [
        "head(df)"
      ],
      "metadata": {
        "colab": {
          "base_uri": "https://localhost:8080/",
          "height": 286
        },
        "id": "y8l_4luNXNWB",
        "outputId": "fc39da18-02ee-4f58-9d39-4cebc9f340f5"
      },
      "execution_count": 14,
      "outputs": [
        {
          "output_type": "display_data",
          "data": {
            "text/html": [
              "<table class=\"dataframe\">\n",
              "<caption>A tibble: 6 × 6</caption>\n",
              "<thead>\n",
              "\t<tr><th scope=col>MUNICIPALIDAD</th><th scope=col>TIP_SUBDERE</th><th scope=col>TOTAL_FUNCIONARIOS_SUMA</th><th scope=col>P6.1</th><th scope=col>P6.2</th><th scope=col>P6.3</th></tr>\n",
              "\t<tr><th scope=col>&lt;chr&gt;</th><th scope=col>&lt;dbl&gt;</th><th scope=col>&lt;dbl&gt;</th><th scope=col>&lt;dbl&gt;</th><th scope=col>&lt;dbl&gt;</th><th scope=col>&lt;dbl&gt;</th></tr>\n",
              "</thead>\n",
              "<tbody>\n",
              "\t<tr><td>ALGARROBO    </td><td>5</td><td>209</td><td> 33</td><td> 41</td><td>  8</td></tr>\n",
              "\t<tr><td>ALHUE        </td><td>5</td><td> 95</td><td> 15</td><td>  3</td><td> 38</td></tr>\n",
              "\t<tr><td>ALTO HOSPICIO</td><td>3</td><td>500</td><td> 52</td><td> 22</td><td>213</td></tr>\n",
              "\t<tr><td>ANCUD        </td><td>4</td><td>219</td><td> 60</td><td>  6</td><td>120</td></tr>\n",
              "\t<tr><td>ANGOL        </td><td>4</td><td>439</td><td> 82</td><td> 33</td><td>250</td></tr>\n",
              "\t<tr><td>ANTOFAGASTA  </td><td>2</td><td>491</td><td>276</td><td>129</td><td> 49</td></tr>\n",
              "</tbody>\n",
              "</table>\n"
            ],
            "text/markdown": "\nA tibble: 6 × 6\n\n| MUNICIPALIDAD &lt;chr&gt; | TIP_SUBDERE &lt;dbl&gt; | TOTAL_FUNCIONARIOS_SUMA &lt;dbl&gt; | P6.1 &lt;dbl&gt; | P6.2 &lt;dbl&gt; | P6.3 &lt;dbl&gt; |\n|---|---|---|---|---|---|\n| ALGARROBO     | 5 | 209 |  33 |  41 |   8 |\n| ALHUE         | 5 |  95 |  15 |   3 |  38 |\n| ALTO HOSPICIO | 3 | 500 |  52 |  22 | 213 |\n| ANCUD         | 4 | 219 |  60 |   6 | 120 |\n| ANGOL         | 4 | 439 |  82 |  33 | 250 |\n| ANTOFAGASTA   | 2 | 491 | 276 | 129 |  49 |\n\n",
            "text/latex": "A tibble: 6 × 6\n\\begin{tabular}{llllll}\n MUNICIPALIDAD & TIP\\_SUBDERE & TOTAL\\_FUNCIONARIOS\\_SUMA & P6.1 & P6.2 & P6.3\\\\\n <chr> & <dbl> & <dbl> & <dbl> & <dbl> & <dbl>\\\\\n\\hline\n\t ALGARROBO     & 5 & 209 &  33 &  41 &   8\\\\\n\t ALHUE         & 5 &  95 &  15 &   3 &  38\\\\\n\t ALTO HOSPICIO & 3 & 500 &  52 &  22 & 213\\\\\n\t ANCUD         & 4 & 219 &  60 &   6 & 120\\\\\n\t ANGOL         & 4 & 439 &  82 &  33 & 250\\\\\n\t ANTOFAGASTA   & 2 & 491 & 276 & 129 &  49\\\\\n\\end{tabular}\n",
            "text/plain": [
              "  MUNICIPALIDAD TIP_SUBDERE TOTAL_FUNCIONARIOS_SUMA P6.1 P6.2 P6.3\n",
              "1 ALGARROBO     5           209                      33   41    8 \n",
              "2 ALHUE         5            95                      15    3   38 \n",
              "3 ALTO HOSPICIO 3           500                      52   22  213 \n",
              "4 ANCUD         4           219                      60    6  120 \n",
              "5 ANGOL         4           439                      82   33  250 \n",
              "6 ANTOFAGASTA   2           491                     276  129   49 "
            ]
          },
          "metadata": {}
        }
      ]
    },
    {
      "cell_type": "code",
      "source": [
        "# Clasificación de los municipios según TIP_SUBDERE\n",
        "df$Grupo_Municipios <- cut(df$TIP_SUBDERE,\n",
        "                           breaks = c(0, 2, 4, 6),\n",
        "                           labels = c(\"Grandes\", \"Urbanas\", \"Semiurbanas_Rurales\"))\n",
        "\n"
      ],
      "metadata": {
        "id": "OxEwpyQ4MtGT"
      },
      "execution_count": 17,
      "outputs": []
    },
    {
      "cell_type": "code",
      "source": [
        "# Crear una columna para los funcionarios a contrata y honorarios\n",
        "df$Funcionarios_Contrata_Honorarios <- df$P6.2 + df$P6.3\n",
        "\n",
        "# Agrupar por grupo de municipios y calcular el promedio\n",
        "library(dplyr)\n",
        "\n",
        "grupo_funcionarios <- df %>%\n",
        "  group_by(Grupo_Municipios) %>%\n",
        "  summarise(Funcionarios_Planta = mean(P6.1, na.rm = TRUE),\n",
        "            Funcionarios_Contrata_Honorarios = mean(Funcionarios_Contrata_Honorarios, na.rm = TRUE))\n",
        "\n",
        "print(grupo_funcionarios)"
      ],
      "metadata": {
        "colab": {
          "base_uri": "https://localhost:8080/"
        },
        "id": "9VQLjqHHX1yS",
        "outputId": "9535a61e-34b9-47f1-8ad5-a53fdf076877"
      },
      "execution_count": 18,
      "outputs": [
        {
          "output_type": "stream",
          "name": "stderr",
          "text": [
            "\n",
            "Attaching package: ‘dplyr’\n",
            "\n",
            "\n",
            "The following objects are masked from ‘package:stats’:\n",
            "\n",
            "    filter, lag\n",
            "\n",
            "\n",
            "The following objects are masked from ‘package:base’:\n",
            "\n",
            "    intersect, setdiff, setequal, union\n",
            "\n",
            "\n"
          ]
        },
        {
          "output_type": "stream",
          "name": "stdout",
          "text": [
            "\u001b[90m# A tibble: 3 × 3\u001b[39m\n",
            "  Grupo_Municipios    Funcionarios_Planta Funcionarios_Contrata_Honorarios\n",
            "  \u001b[3m\u001b[90m<fct>\u001b[39m\u001b[23m                             \u001b[3m\u001b[90m<dbl>\u001b[39m\u001b[23m                            \u001b[3m\u001b[90m<dbl>\u001b[39m\u001b[23m\n",
            "\u001b[90m1\u001b[39m Grandes                           232.                             304. \n",
            "\u001b[90m2\u001b[39m Urbanas                            70.4                            146  \n",
            "\u001b[90m3\u001b[39m Semiurbanas_Rurales                25.9                             46.2\n"
          ]
        }
      ]
    },
    {
      "cell_type": "code",
      "source": [
        "# Instalar ggplot2 si no está instalado\n",
        "# install.packages(\"ggplot2\")\n",
        "\n",
        "library(ggplot2)\n",
        "\n",
        "# Crear el gráfico de barras\n",
        "ggplot(grupo_funcionarios, aes(x = Grupo_Municipios)) +\n",
        "  geom_bar(aes(y = Funcionarios_Planta), stat = \"identity\", fill = \"blue\", alpha = 0.5) +\n",
        "  geom_bar(aes(y = Funcionarios_Contrata_Honorarios), stat = \"identity\", fill = \"red\", alpha = 0.5) +\n",
        "  labs(title = \"Comparación de funcionarios por tipo de contrato en diferentes grupos de municipios\",\n",
        "       x = \"Grupo de Municipios\", y = \"Cantidad Promedio de Funcionarios\") +\n",
        "  theme_minimal()\n"
      ],
      "metadata": {
        "colab": {
          "base_uri": "https://localhost:8080/",
          "height": 437
        },
        "id": "WvgWHSo2X4lz",
        "outputId": "bcd6d438-cc92-4e63-b1c8-9e13a0f5a4c8"
      },
      "execution_count": 19,
      "outputs": [
        {
          "output_type": "display_data",
          "data": {
            "text/plain": [
              "plot without title"
            ],
            "image/png": "[encoded data removed]"
          },
          "metadata": {
            "image/png": {
              "width": 420,
              "height": 420
            }
          }
        }
      ]
    },
    {
      "cell_type": "markdown",
      "source": [
        "Comentarios:  \n",
        "\n",
        "Se evidencia una clara diferencia en la cantidad de funcionarios entre los tres tipos de municipios, siendo los municipios grandes los que tienen mayor cantidad de personal, seguidos por los urbanos y finalmente los semiurbanos/rurales. Esto sugiere que la infraestructura administrativa en los municipios más grandes está mucho más desarrollada que en los otros tipos de municipios, lo cual es consistente con la concentración de recursos y personal en áreas metropolitanas más grandes."
      ],
      "metadata": {
        "id": "Np5nWec5kj7Q"
      }
    },
    {
      "cell_type": "markdown",
      "source": [
        "##PREGUNTA 2"
      ],
      "metadata": {
        "id": "U4Ea5c1BnKyp"
      }
    },
    {
      "cell_type": "code",
      "source": [
        "# Clasificación de los municipios como en la pregunta anterior\n",
        "df$Grupo_Municipios <- cut(df$TIP_SUBDERE,\n",
        "                           breaks = c(0, 2, 4, 6),\n",
        "                           labels = c(\"Grandes\", \"Urbanas\", \"Semiurbanas_Rurales\"))\n"
      ],
      "metadata": {
        "id": "h8X87vLJg9qp"
      },
      "execution_count": 27,
      "outputs": []
    },
    {
      "cell_type": "code",
      "source": [
        "library(dplyr)\n",
        "library(tidyr) # Add this line to load the tidyr package\n",
        "\n",
        "# Agrupar por grupo de municipios y calcular el promedio por tramo etario\n",
        "grupo_edades <- df %>%\n",
        "  group_by(Grupo_Municipios) %>%\n",
        "  summarise(`18-29` = mean(P7.1, na.rm = TRUE),\n",
        "            `30-39` = mean(P7.2, na.rm = TRUE),\n",
        "            `40-49` = mean(P7.3, na.rm = TRUE),\n",
        "            `50-59` = mean(P7.4, na.rm = TRUE),\n",
        "            `60+` = mean(P7.5, na.rm = TRUE))\n",
        "\n",
        "print(grupo_edades)\n"
      ],
      "metadata": {
        "id": "qy7zRvrbnPLG",
        "colab": {
          "base_uri": "https://localhost:8080/"
        },
        "outputId": "007a9c2d-01cb-40cc-9fef-00c0f26a69c5"
      },
      "execution_count": 30,
      "outputs": [
        {
          "output_type": "stream",
          "name": "stdout",
          "text": [
            "\u001b[90m# A tibble: 3 × 6\u001b[39m\n",
            "  Grupo_Municipios    `18-29` `30-39` `40-49` `50-59` `60+`\n",
            "  \u001b[3m\u001b[90m<fct>\u001b[39m\u001b[23m                 \u001b[3m\u001b[90m<dbl>\u001b[39m\u001b[23m   \u001b[3m\u001b[90m<dbl>\u001b[39m\u001b[23m   \u001b[3m\u001b[90m<dbl>\u001b[39m\u001b[23m   \u001b[3m\u001b[90m<dbl>\u001b[39m\u001b[23m \u001b[3m\u001b[90m<dbl>\u001b[39m\u001b[23m\n",
            "\u001b[90m1\u001b[39m Grandes                60.2   118.    144.    159.   89.9\n",
            "\u001b[90m2\u001b[39m Urbanas                31.4    56.5    57.0    49.7  24.8\n",
            "\u001b[90m3\u001b[39m Semiurbanas_Rurales    14.6    25.7    22.4    17.3   7  \n"
          ]
        }
      ]
    },
    {
      "cell_type": "code",
      "source": [
        "# Convertir los datos a formato largo para facilitar la visualización\n",
        "grupo_edades_long <- grupo_edades %>%\n",
        "  pivot_longer(cols = c(`18-29`, `30-39`, `40-49`, `50-59`, `60+`),\n",
        "               names_to = \"Tramo_Etario\",\n",
        "               values_to = \"Cantidad\")\n",
        "\n",
        "# Crear gráfico de barras apiladas\n",
        "ggplot(grupo_edades_long, aes(x = Grupo_Municipios, y = Cantidad, fill = Tramo_Etario)) +\n",
        "  geom_bar(stat = \"identity\", position = \"stack\", alpha = 0.8) +\n",
        "  labs(title = \"Distribución de funcionarios por tramo etario en diferentes grupos de municipios\",\n",
        "       x = \"Grupo de Municipios\", y = \"Cantidad Promedio de Funcionarios\",\n",
        "       fill = \"Tramo Etario\") +  # Etiqueta de la leyenda\n",
        "  theme_minimal()\n"
      ],
      "metadata": {
        "colab": {
          "base_uri": "https://localhost:8080/",
          "height": 437
        },
        "id": "pUTqw8uChKub",
        "outputId": "d8b974e7-fc6c-4496-a881-2cdc7107c4a5"
      },
      "execution_count": 31,
      "outputs": [
        {
          "output_type": "display_data",
          "data": {
            "text/plain": [
              "plot without title"
            ],
            "image/png": "[encoded data removed]"
          },
          "metadata": {
            "image/png": {
              "width": 420,
              "height": 420
            }
          }
        }
      ]
    },
    {
      "cell_type": "markdown",
      "source": [
        "Comentarios:\n",
        "\n",
        "Los municipios grandes cuentan con una fuerza laboral mucho más extensa y diversa en cuanto a la edad.\n",
        "\n",
        "En los municipios urbanos y semiurbanos/rurales, hay una menor cantidad de funcionarios en todos los tramos de edad, y una mayor representación de funcionarios de mayor edad (40-59 años).\n",
        "\n",
        "La baja presencia de funcionarios jóvenes (18-29 años) en municipios semiurbanos/rurales podría ser una señal de que estos municipios tienen dificultades para atraer o retener personal más joven."
      ],
      "metadata": {
        "id": "k9HQPECYn0ND"
      }
    },
    {
      "cell_type": "markdown",
      "source": [
        "## Desarrollo Item 2.b."
      ],
      "metadata": {
        "id": "J-RgJVjLn8TP"
      }
    },
    {
      "cell_type": "code",
      "source": [],
      "metadata": {
        "id": "BHXxea3qucDE"
      },
      "execution_count": null,
      "outputs": []
    },
    {
      "cell_type": "markdown",
      "source": [
        "##PREGUNTA 3\n"
      ],
      "metadata": {
        "id": "2O11ISk_ucme"
      }
    },
    {
      "cell_type": "markdown",
      "source": [
        "## Desarrollo Item 3.a"
      ],
      "metadata": {
        "id": "UtwW2MWvueo2"
      }
    },
    {
      "cell_type": "code",
      "source": [
        "nuevodata <- sample_n(data, 1000)\n",
        "nuevodata=as.data.frame(nuevodata)\n",
        "boxplot(nuevodata$Mileage, main=\"\", col=\"purple\", ylab=\"Precio autos\")"
      ],
      "metadata": {
        "id": "opCNHtj7uf3W"
      },
      "execution_count": null,
      "outputs": []
    },
    {
      "cell_type": "markdown",
      "source": [
        "Comentarios:"
      ],
      "metadata": {
        "id": "lszXwYKzw-LI"
      }
    }
  ]
}